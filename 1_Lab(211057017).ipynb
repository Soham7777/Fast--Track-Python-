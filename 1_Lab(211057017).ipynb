{
  "nbformat": 4,
  "nbformat_minor": 2,
  "metadata": {
    "colab": {
      "name": "H1.ipynb",
      "provenance": [],
      "collapsed_sections": []
    },
    "kernelspec": {
      "name": "python3",
      "display_name": "Python 3.8.3 32-bit"
    },
    "language_info": {
      "name": "python",
      "version": "3.8.3",
      "mimetype": "text/x-python",
      "codemirror_mode": {
        "name": "ipython",
        "version": 3
      },
      "pygments_lexer": "ipython3",
      "nbconvert_exporter": "python",
      "file_extension": ".py"
    },
    "interpreter": {
      "hash": "a2d571c1fd995a764dd66b4638fdf44303b0fae6c5f32d6ec3b392a9c3c427e3"
    }
  },
  "cells": [
    {
      "cell_type": "markdown",
      "source": [
        "The main idea of this assignment is explore \n",
        "1.   Basic Operation \n",
        "           - print statement \n",
        "           - how to get help \n",
        "           - declare variables \n",
        "           - assign values\n",
        "2. Working with Integers \n",
        "           - operators \n",
        "           - functions \n",
        "3. Working with Strings \n",
        "           - operators \n",
        "           - functions \n",
        "4. Handling Errors \n",
        "           - Syntax \n",
        "           - Run Time \n",
        "           - Logical\n",
        "\n",
        "\n",
        "\n"
      ],
      "metadata": {
        "id": "crkwZf5SCyER"
      }
    },
    {
      "cell_type": "code",
      "execution_count": 1,
      "source": [
        "# print your name \r\n",
        "print(\"Soham Sawant\")\r\n",
        "\r\n",
        "# print your hobbies \r\n",
        "print(\"Hobbies: Exploring Data, Football, Financial Markets, Netflix\")\r\n",
        "\r\n",
        "# print your registration number\r\n",
        "print(\"211057017\")"
      ],
      "outputs": [
        {
          "output_type": "stream",
          "name": "stdout",
          "text": [
            "Soham Sawant\n",
            "Hobbies: Exploring Data, Football, Financial Markets, Netflix\n",
            "211057017\n"
          ]
        }
      ],
      "metadata": {
        "id": "GPfG8zb3LBT5"
      }
    },
    {
      "cell_type": "code",
      "execution_count": 3,
      "source": [
        "# how to get more information about print functions \r\n",
        "help(print)\r\n",
        "\r\n",
        "\r\n",
        "# how to get more infromation about math module \r\n",
        "import math\r\n",
        "help(math)\r\n",
        "\r\n",
        "# how to get more information about symbols \r\n",
        "from sympy import symbols\r\n",
        "help(symbols)\r\n",
        "\r\n"
      ],
      "outputs": [
        {
          "output_type": "stream",
          "name": "stdout",
          "text": [
            "Help on built-in function print in module builtins:\n",
            "\n",
            "print(...)\n",
            "    print(value, ..., sep=' ', end='\\n', file=sys.stdout, flush=False)\n",
            "    \n",
            "    Prints the values to a stream, or to sys.stdout by default.\n",
            "    Optional keyword arguments:\n",
            "    file:  a file-like object (stream); defaults to the current sys.stdout.\n",
            "    sep:   string inserted between values, default a space.\n",
            "    end:   string appended after the last value, default a newline.\n",
            "    flush: whether to forcibly flush the stream.\n",
            "\n",
            "Help on built-in module math:\n",
            "\n",
            "NAME\n",
            "    math\n",
            "\n",
            "DESCRIPTION\n",
            "    This module provides access to the mathematical functions\n",
            "    defined by the C standard.\n",
            "\n",
            "FUNCTIONS\n",
            "    acos(x, /)\n",
            "        Return the arc cosine (measured in radians) of x.\n",
            "    \n",
            "    acosh(x, /)\n",
            "        Return the inverse hyperbolic cosine of x.\n",
            "    \n",
            "    asin(x, /)\n",
            "        Return the arc sine (measured in radians) of x.\n",
            "    \n",
            "    asinh(x, /)\n",
            "        Return the inverse hyperbolic sine of x.\n",
            "    \n",
            "    atan(x, /)\n",
            "        Return the arc tangent (measured in radians) of x.\n",
            "    \n",
            "    atan2(y, x, /)\n",
            "        Return the arc tangent (measured in radians) of y/x.\n",
            "        \n",
            "        Unlike atan(y/x), the signs of both x and y are considered.\n",
            "    \n",
            "    atanh(x, /)\n",
            "        Return the inverse hyperbolic tangent of x.\n",
            "    \n",
            "    ceil(x, /)\n",
            "        Return the ceiling of x as an Integral.\n",
            "        \n",
            "        This is the smallest integer >= x.\n",
            "    \n",
            "    comb(n, k, /)\n",
            "        Number of ways to choose k items from n items without repetition and without order.\n",
            "        \n",
            "        Evaluates to n! / (k! * (n - k)!) when k <= n and evaluates\n",
            "        to zero when k > n.\n",
            "        \n",
            "        Also called the binomial coefficient because it is equivalent\n",
            "        to the coefficient of k-th term in polynomial expansion of the\n",
            "        expression (1 + x)**n.\n",
            "        \n",
            "        Raises TypeError if either of the arguments are not integers.\n",
            "        Raises ValueError if either of the arguments are negative.\n",
            "    \n",
            "    copysign(x, y, /)\n",
            "        Return a float with the magnitude (absolute value) of x but the sign of y.\n",
            "        \n",
            "        On platforms that support signed zeros, copysign(1.0, -0.0)\n",
            "        returns -1.0.\n",
            "    \n",
            "    cos(x, /)\n",
            "        Return the cosine of x (measured in radians).\n",
            "    \n",
            "    cosh(x, /)\n",
            "        Return the hyperbolic cosine of x.\n",
            "    \n",
            "    degrees(x, /)\n",
            "        Convert angle x from radians to degrees.\n",
            "    \n",
            "    dist(p, q, /)\n",
            "        Return the Euclidean distance between two points p and q.\n",
            "        \n",
            "        The points should be specified as sequences (or iterables) of\n",
            "        coordinates.  Both inputs must have the same dimension.\n",
            "        \n",
            "        Roughly equivalent to:\n",
            "            sqrt(sum((px - qx) ** 2.0 for px, qx in zip(p, q)))\n",
            "    \n",
            "    erf(x, /)\n",
            "        Error function at x.\n",
            "    \n",
            "    erfc(x, /)\n",
            "        Complementary error function at x.\n",
            "    \n",
            "    exp(x, /)\n",
            "        Return e raised to the power of x.\n",
            "    \n",
            "    expm1(x, /)\n",
            "        Return exp(x)-1.\n",
            "        \n",
            "        This function avoids the loss of precision involved in the direct evaluation of exp(x)-1 for small x.\n",
            "    \n",
            "    fabs(x, /)\n",
            "        Return the absolute value of the float x.\n",
            "    \n",
            "    factorial(x, /)\n",
            "        Find x!.\n",
            "        \n",
            "        Raise a ValueError if x is negative or non-integral.\n",
            "    \n",
            "    floor(x, /)\n",
            "        Return the floor of x as an Integral.\n",
            "        \n",
            "        This is the largest integer <= x.\n",
            "    \n",
            "    fmod(x, y, /)\n",
            "        Return fmod(x, y), according to platform C.\n",
            "        \n",
            "        x % y may differ.\n",
            "    \n",
            "    frexp(x, /)\n",
            "        Return the mantissa and exponent of x, as pair (m, e).\n",
            "        \n",
            "        m is a float and e is an int, such that x = m * 2.**e.\n",
            "        If x is 0, m and e are both 0.  Else 0.5 <= abs(m) < 1.0.\n",
            "    \n",
            "    fsum(seq, /)\n",
            "        Return an accurate floating point sum of values in the iterable seq.\n",
            "        \n",
            "        Assumes IEEE-754 floating point arithmetic.\n",
            "    \n",
            "    gamma(x, /)\n",
            "        Gamma function at x.\n",
            "    \n",
            "    gcd(x, y, /)\n",
            "        greatest common divisor of x and y\n",
            "    \n",
            "    hypot(...)\n",
            "        hypot(*coordinates) -> value\n",
            "        \n",
            "        Multidimensional Euclidean distance from the origin to a point.\n",
            "        \n",
            "        Roughly equivalent to:\n",
            "            sqrt(sum(x**2 for x in coordinates))\n",
            "        \n",
            "        For a two dimensional point (x, y), gives the hypotenuse\n",
            "        using the Pythagorean theorem:  sqrt(x*x + y*y).\n",
            "        \n",
            "        For example, the hypotenuse of a 3/4/5 right triangle is:\n",
            "        \n",
            "            >>> hypot(3.0, 4.0)\n",
            "            5.0\n",
            "    \n",
            "    isclose(a, b, *, rel_tol=1e-09, abs_tol=0.0)\n",
            "        Determine whether two floating point numbers are close in value.\n",
            "        \n",
            "          rel_tol\n",
            "            maximum difference for being considered \"close\", relative to the\n",
            "            magnitude of the input values\n",
            "          abs_tol\n",
            "            maximum difference for being considered \"close\", regardless of the\n",
            "            magnitude of the input values\n",
            "        \n",
            "        Return True if a is close in value to b, and False otherwise.\n",
            "        \n",
            "        For the values to be considered close, the difference between them\n",
            "        must be smaller than at least one of the tolerances.\n",
            "        \n",
            "        -inf, inf and NaN behave similarly to the IEEE 754 Standard.  That\n",
            "        is, NaN is not close to anything, even itself.  inf and -inf are\n",
            "        only close to themselves.\n",
            "    \n",
            "    isfinite(x, /)\n",
            "        Return True if x is neither an infinity nor a NaN, and False otherwise.\n",
            "    \n",
            "    isinf(x, /)\n",
            "        Return True if x is a positive or negative infinity, and False otherwise.\n",
            "    \n",
            "    isnan(x, /)\n",
            "        Return True if x is a NaN (not a number), and False otherwise.\n",
            "    \n",
            "    isqrt(n, /)\n",
            "        Return the integer part of the square root of the input.\n",
            "    \n",
            "    ldexp(x, i, /)\n",
            "        Return x * (2**i).\n",
            "        \n",
            "        This is essentially the inverse of frexp().\n",
            "    \n",
            "    lgamma(x, /)\n",
            "        Natural logarithm of absolute value of Gamma function at x.\n",
            "    \n",
            "    log(...)\n",
            "        log(x, [base=math.e])\n",
            "        Return the logarithm of x to the given base.\n",
            "        \n",
            "        If the base not specified, returns the natural logarithm (base e) of x.\n",
            "    \n",
            "    log10(x, /)\n",
            "        Return the base 10 logarithm of x.\n",
            "    \n",
            "    log1p(x, /)\n",
            "        Return the natural logarithm of 1+x (base e).\n",
            "        \n",
            "        The result is computed in a way which is accurate for x near zero.\n",
            "    \n",
            "    log2(x, /)\n",
            "        Return the base 2 logarithm of x.\n",
            "    \n",
            "    modf(x, /)\n",
            "        Return the fractional and integer parts of x.\n",
            "        \n",
            "        Both results carry the sign of x and are floats.\n",
            "    \n",
            "    perm(n, k=None, /)\n",
            "        Number of ways to choose k items from n items without repetition and with order.\n",
            "        \n",
            "        Evaluates to n! / (n - k)! when k <= n and evaluates\n",
            "        to zero when k > n.\n",
            "        \n",
            "        If k is not specified or is None, then k defaults to n\n",
            "        and the function returns n!.\n",
            "        \n",
            "        Raises TypeError if either of the arguments are not integers.\n",
            "        Raises ValueError if either of the arguments are negative.\n",
            "    \n",
            "    pow(x, y, /)\n",
            "        Return x**y (x to the power of y).\n",
            "    \n",
            "    prod(iterable, /, *, start=1)\n",
            "        Calculate the product of all the elements in the input iterable.\n",
            "        \n",
            "        The default start value for the product is 1.\n",
            "        \n",
            "        When the iterable is empty, return the start value.  This function is\n",
            "        intended specifically for use with numeric values and may reject\n",
            "        non-numeric types.\n",
            "    \n",
            "    radians(x, /)\n",
            "        Convert angle x from degrees to radians.\n",
            "    \n",
            "    remainder(x, y, /)\n",
            "        Difference between x and the closest integer multiple of y.\n",
            "        \n",
            "        Return x - n*y where n*y is the closest integer multiple of y.\n",
            "        In the case where x is exactly halfway between two multiples of\n",
            "        y, the nearest even value of n is used. The result is always exact.\n",
            "    \n",
            "    sin(x, /)\n",
            "        Return the sine of x (measured in radians).\n",
            "    \n",
            "    sinh(x, /)\n",
            "        Return the hyperbolic sine of x.\n",
            "    \n",
            "    sqrt(x, /)\n",
            "        Return the square root of x.\n",
            "    \n",
            "    tan(x, /)\n",
            "        Return the tangent of x (measured in radians).\n",
            "    \n",
            "    tanh(x, /)\n",
            "        Return the hyperbolic tangent of x.\n",
            "    \n",
            "    trunc(x, /)\n",
            "        Truncates the Real x to the nearest Integral toward 0.\n",
            "        \n",
            "        Uses the __trunc__ magic method.\n",
            "\n",
            "DATA\n",
            "    e = 2.718281828459045\n",
            "    inf = inf\n",
            "    nan = nan\n",
            "    pi = 3.141592653589793\n",
            "    tau = 6.283185307179586\n",
            "\n",
            "FILE\n",
            "    (built-in)\n",
            "\n",
            "\n",
            "Help on function symbols in module sympy.core.symbol:\n",
            "\n",
            "symbols(names, *, cls=<class 'sympy.core.symbol.Symbol'>, **args)\n",
            "    Transform strings into instances of :class:`Symbol` class.\n",
            "    \n",
            "    :func:`symbols` function returns a sequence of symbols with names taken\n",
            "    from ``names`` argument, which can be a comma or whitespace delimited\n",
            "    string, or a sequence of strings::\n",
            "    \n",
            "        >>> from sympy import symbols, Function\n",
            "    \n",
            "        >>> x, y, z = symbols('x,y,z')\n",
            "        >>> a, b, c = symbols('a b c')\n",
            "    \n",
            "    The type of output is dependent on the properties of input arguments::\n",
            "    \n",
            "        >>> symbols('x')\n",
            "        x\n",
            "        >>> symbols('x,')\n",
            "        (x,)\n",
            "        >>> symbols('x,y')\n",
            "        (x, y)\n",
            "        >>> symbols(('a', 'b', 'c'))\n",
            "        (a, b, c)\n",
            "        >>> symbols(['a', 'b', 'c'])\n",
            "        [a, b, c]\n",
            "        >>> symbols({'a', 'b', 'c'})\n",
            "        {a, b, c}\n",
            "    \n",
            "    If an iterable container is needed for a single symbol, set the ``seq``\n",
            "    argument to ``True`` or terminate the symbol name with a comma::\n",
            "    \n",
            "        >>> symbols('x', seq=True)\n",
            "        (x,)\n",
            "    \n",
            "    To reduce typing, range syntax is supported to create indexed symbols.\n",
            "    Ranges are indicated by a colon and the type of range is determined by\n",
            "    the character to the right of the colon. If the character is a digit\n",
            "    then all contiguous digits to the left are taken as the nonnegative\n",
            "    starting value (or 0 if there is no digit left of the colon) and all\n",
            "    contiguous digits to the right are taken as 1 greater than the ending\n",
            "    value::\n",
            "    \n",
            "        >>> symbols('x:10')\n",
            "        (x0, x1, x2, x3, x4, x5, x6, x7, x8, x9)\n",
            "    \n",
            "        >>> symbols('x5:10')\n",
            "        (x5, x6, x7, x8, x9)\n",
            "        >>> symbols('x5(:2)')\n",
            "        (x50, x51)\n",
            "    \n",
            "        >>> symbols('x5:10,y:5')\n",
            "        (x5, x6, x7, x8, x9, y0, y1, y2, y3, y4)\n",
            "    \n",
            "        >>> symbols(('x5:10', 'y:5'))\n",
            "        ((x5, x6, x7, x8, x9), (y0, y1, y2, y3, y4))\n",
            "    \n",
            "    If the character to the right of the colon is a letter, then the single\n",
            "    letter to the left (or 'a' if there is none) is taken as the start\n",
            "    and all characters in the lexicographic range *through* the letter to\n",
            "    the right are used as the range::\n",
            "    \n",
            "        >>> symbols('x:z')\n",
            "        (x, y, z)\n",
            "        >>> symbols('x:c')  # null range\n",
            "        ()\n",
            "        >>> symbols('x(:c)')\n",
            "        (xa, xb, xc)\n",
            "    \n",
            "        >>> symbols(':c')\n",
            "        (a, b, c)\n",
            "    \n",
            "        >>> symbols('a:d, x:z')\n",
            "        (a, b, c, d, x, y, z)\n",
            "    \n",
            "        >>> symbols(('a:d', 'x:z'))\n",
            "        ((a, b, c, d), (x, y, z))\n",
            "    \n",
            "    Multiple ranges are supported; contiguous numerical ranges should be\n",
            "    separated by parentheses to disambiguate the ending number of one\n",
            "    range from the starting number of the next::\n",
            "    \n",
            "        >>> symbols('x:2(1:3)')\n",
            "        (x01, x02, x11, x12)\n",
            "        >>> symbols(':3:2')  # parsing is from left to right\n",
            "        (00, 01, 10, 11, 20, 21)\n",
            "    \n",
            "    Only one pair of parentheses surrounding ranges are removed, so to\n",
            "    include parentheses around ranges, double them. And to include spaces,\n",
            "    commas, or colons, escape them with a backslash::\n",
            "    \n",
            "        >>> symbols('x((a:b))')\n",
            "        (x(a), x(b))\n",
            "        >>> symbols(r'x(:1\\,:2)')  # or r'x((:1)\\,(:2))'\n",
            "        (x(0,0), x(0,1))\n",
            "    \n",
            "    All newly created symbols have assumptions set according to ``args``::\n",
            "    \n",
            "        >>> a = symbols('a', integer=True)\n",
            "        >>> a.is_integer\n",
            "        True\n",
            "    \n",
            "        >>> x, y, z = symbols('x,y,z', real=True)\n",
            "        >>> x.is_real and y.is_real and z.is_real\n",
            "        True\n",
            "    \n",
            "    Despite its name, :func:`symbols` can create symbol-like objects like\n",
            "    instances of Function or Wild classes. To achieve this, set ``cls``\n",
            "    keyword argument to the desired type::\n",
            "    \n",
            "        >>> symbols('f,g,h', cls=Function)\n",
            "        (f, g, h)\n",
            "    \n",
            "        >>> type(_[0])\n",
            "        <class 'sympy.core.function.UndefinedFunction'>\n",
            "\n"
          ]
        }
      ],
      "metadata": {
        "id": "NYfLS3UvO14i"
      }
    },
    {
      "cell_type": "code",
      "execution_count": 11,
      "source": [
        "# store your role model name in the variable \"role\"\r\n",
        "\r\n",
        "role = 'Cristiano Ronaldo'\r\n",
        "\r\n",
        "\r\n",
        "# describe your role model in the variable \"role_desc\"\r\n",
        "\r\n",
        "role_desc = \" A great athlete with lot of dedication towards fitness and humble life \"\r\n",
        "\r\n",
        "\r\n",
        "# store the numeric value in the variable \"my_values\"\r\n",
        "\r\n",
        "my_values = 7"
      ],
      "outputs": [],
      "metadata": {
        "id": "YmCpHvKVO5ud"
      }
    },
    {
      "cell_type": "code",
      "execution_count": 80,
      "source": [
        "# you can perform arithemetic opeartions using python arithmetic opeartors \r\n",
        "# To perform arithmetic opeations \r\n",
        "# If your run a 1000 Kilo Meter race in 143 minutes 30 seconds, what is your average time per mile? What is your average speed in miles per hour? \r\n",
        "# Hint : 1.61 kilometers in a mile\r\n",
        "\r\n",
        "#converting kilometers into miles\r\n",
        "time = (143 * 60) + 30 #converting in seconds\r\n",
        "kilometer = 1000\r\n",
        "miles = kilometer/1.61\r\n",
        "\r\n",
        "avgtime_per_mile = miles / time\r\n",
        "\r\n",
        "avgtime_per_mile\r\n",
        "\r\n",
        "time\r\n",
        "\r\n",
        "\r\n",
        "\r\n"
      ],
      "outputs": [
        {
          "output_type": "execute_result",
          "data": {
            "text/plain": [
              "8610"
            ]
          },
          "metadata": {},
          "execution_count": 80
        }
      ],
      "metadata": {
        "id": "Jkev_gH2T4w7"
      }
    },
    {
      "cell_type": "code",
      "execution_count": 4,
      "source": [
        "# Suppose the cover price of a python book  is  577.95, but bookstores get a 40% discount.\r\n",
        "# Shipping costs  150 for the first copy and 50 Rupees for each additional copy. What is the total wholesale cost for 60 copies?\r\n",
        "\r\n",
        "cover_price = 577.95\r\n",
        "discounted_price = 346.77\r\n",
        "\r\n",
        "price_of_60_copies = discounted_price * 60\r\n",
        "\r\n",
        "total_Shipping_costs = 150 + 59*50\r\n",
        "\r\n",
        "total_wholesale_cost = price_of_60_copies + total_Shipping_costs\r\n",
        "\r\n",
        "total_wholesale_cost"
      ],
      "outputs": [
        {
          "output_type": "execute_result",
          "data": {
            "text/plain": [
              "23906.199999999997"
            ]
          },
          "metadata": {},
          "execution_count": 4
        }
      ],
      "metadata": {
        "id": "M0jRtr_pVDAO"
      }
    },
    {
      "cell_type": "code",
      "execution_count": 31,
      "source": [
        "# write a python code to convert Centrigrade to Fahrenheit , get the value Centrigrade from the user. \r\n",
        "# Sample Input:\r\n",
        "# Enter Centrigrade:  23.5 \r\n",
        "\r\n",
        "c = float(input(\"Enter Centigrade:\"))\r\n",
        "\r\n",
        "Fahrenheit = (c * 9/5) + 32\r\n",
        "\r\n",
        "print(Fahrenheit)\r\n",
        "\r\n"
      ],
      "outputs": [
        {
          "output_type": "stream",
          "name": "stdout",
          "text": [
            "212.0\n"
          ]
        }
      ],
      "metadata": {
        "id": "_lQDsw9z6EKD"
      }
    },
    {
      "cell_type": "code",
      "execution_count": 32,
      "source": [
        "# write a python code to convert Fahrenheit to Centrigrade, get the value Fahreheit from the user. \r\n",
        "# Sample Input:\r\n",
        "# Enter Fahreheit:  23.5 \r\n",
        "\r\n",
        "f = float(input(\"Enter Fahrenheit:\"))\r\n",
        "\r\n",
        "Celsius = (f - 32) * 5/9\r\n",
        "\r\n",
        "print(Celsius)"
      ],
      "outputs": [
        {
          "output_type": "stream",
          "name": "stdout",
          "text": [
            "100.0\n"
          ]
        }
      ],
      "metadata": {
        "id": "U2jXh8GNDk3Q"
      }
    },
    {
      "cell_type": "code",
      "execution_count": null,
      "source": [
        "# Write a python program of your choice which uses arithmetic operations (use both operators and functions ) with meaningful application "
      ],
      "outputs": [],
      "metadata": {
        "id": "UH0S-lJJFDQ0"
      }
    },
    {
      "cell_type": "code",
      "execution_count": 34,
      "source": [
        "# create a variable called my_neg to store  negative value \r\n",
        "\r\n",
        "my_neg = -10\r\n",
        "\r\n",
        "# create a variable called my_float to store float value \r\n",
        "my_float = 10.50\r\n",
        "\r\n",
        "# create a variable called my_complex to store complex value \r\n",
        "my_complex = 10 + 1j\r\n",
        "my_complex2 = 20 + 2j\r\n",
        "# Note: there a various method to create complex numbers \r\n",
        "\r\n",
        "# perform mathematical operations on complex numbers \r\n",
        "print(\"Addition\",my_complex + my_complex2)\r\n",
        "print(\"Subtraction\", my_complex - my_complex2)\r\n",
        "print(\"Multiplication\", my_complex * my_complex2)\r\n",
        "print(\"Division\", my_complex/my_complex2)"
      ],
      "outputs": [
        {
          "output_type": "stream",
          "name": "stdout",
          "text": [
            "Addition (30+3j)\n",
            "Subtraction (-10-1j)\n",
            "Multipliacation (198+40j)\n",
            "Division (0.5+0j)\n"
          ]
        }
      ],
      "metadata": {
        "id": "h18SMgbAG1AL"
      }
    },
    {
      "cell_type": "code",
      "execution_count": 8,
      "source": [
        "# create a variable called break and assign it a value of 15. what is the response and find the reason behind the behaviour.\r\n",
        "\r\n",
        "break = 15\r\n",
        "\r\n",
        "#shows invalid syntax as it is an inbuilt function and cannot be assigned a value and only used within loops"
      ],
      "outputs": [
        {
          "output_type": "error",
          "ename": "SyntaxError",
          "evalue": "invalid syntax (<ipython-input-8-c4cb53429b3c>, line 3)",
          "traceback": [
            "\u001b[1;36m  File \u001b[1;32m\"<ipython-input-8-c4cb53429b3c>\"\u001b[1;36m, line \u001b[1;32m3\u001b[0m\n\u001b[1;33m    break = 15\u001b[0m\n\u001b[1;37m          ^\u001b[0m\n\u001b[1;31mSyntaxError\u001b[0m\u001b[1;31m:\u001b[0m invalid syntax\n"
          ]
        }
      ],
      "metadata": {
        "id": "D9zXw7dfeuQG"
      }
    },
    {
      "cell_type": "code",
      "execution_count": 38,
      "source": [
        "result =\"hello world\"\r\n",
        "print (result[0])"
      ],
      "outputs": [
        {
          "output_type": "stream",
          "name": "stdout",
          "text": [
            "h\n"
          ]
        }
      ],
      "metadata": {
        "colab": {
          "base_uri": "https://localhost:8080/"
        },
        "id": "fDPZ89vTmA3i",
        "outputId": "d5a6231c-3d16-43b8-ecd0-5e41d459e389"
      }
    },
    {
      "cell_type": "code",
      "execution_count": 84,
      "source": [
        "# String operations \r\n",
        "#Write a program to get the name of the guest , then greet the user using their name as part of greeting \r\n",
        "# Sample Input \r\n",
        "# Enter the Guest Name: Writer Sudha Murthy \r\n",
        "# Sample Output \r\n",
        "# I am extremly hounor to welcome Sudha Murthy to ....... \r\n",
        "\r\n",
        "\r\n",
        "a = input(\"Enter the guest name:\")\r\n",
        "welcome_note = \"I am extremely honoured to welcome \"\r\n",
        "concat = welcome_note + a\r\n",
        "concat"
      ],
      "outputs": [
        {
          "output_type": "execute_result",
          "data": {
            "text/plain": [
              "'I am extremely honoured to welcome Sudha Murthy'"
            ]
          },
          "metadata": {},
          "execution_count": 84
        }
      ],
      "metadata": {
        "id": "5sv7vl8_R3P5"
      }
    },
    {
      "cell_type": "code",
      "execution_count": 50,
      "source": [
        "quotes  = \"Don't judge each day by the harvest you reap but by the seeds that you plant.\"\r\n",
        "\r\n",
        "# count the total number of characters in the variable quotes \r\n",
        "count = 0\r\n",
        "\r\n",
        "for i in quotes:\r\n",
        "    count += 1\r\n",
        "print(count)    \r\n",
        "\r\n",
        "\r\n",
        "# convert the smaller case to upper case, upper case to smaller case \r\n",
        "\r\n",
        "quotes.upper()\r\n",
        "\r\n",
        "quotes.lower()\r\n",
        "\r\n",
        "\r\n",
        "# check whether the numeric value is present or not \r\n",
        "\r\n",
        "quotes.isdigit()\r\n",
        "\r\n",
        "# Check whether the word \"harvest\" present in the string or not \r\n",
        "\r\n",
        "quotes.find(\"harvest\")\r\n",
        "\r\n",
        "# replace the (.) with (!) \r\n",
        "\r\n",
        "quotes.replace(\".\",\"!\")"
      ],
      "outputs": [
        {
          "output_type": "stream",
          "name": "stdout",
          "text": [
            "77\n"
          ]
        },
        {
          "output_type": "execute_result",
          "data": {
            "text/plain": [
              "\"Don't judge each day by the harvest you reap but by the seeds that you plant!\""
            ]
          },
          "metadata": {},
          "execution_count": 50
        }
      ],
      "metadata": {
        "id": "EkN2V3BzTyYh"
      }
    },
    {
      "cell_type": "code",
      "execution_count": 57,
      "source": [
        "# Explore any 5 string build-in functions which is not discussed in the class\r\n",
        "# provide with suitable examples \r\n",
        "my_str = \"hello World\"\r\n",
        "\r\n",
        "#capitalize() - Converts first character into upper case\r\n",
        "my_str.capitalize()\r\n",
        "\r\n",
        "#encode - returns an encoded version of string\r\n",
        "my_str.encode\r\n",
        "\r\n",
        "#index - searches string for a specified value and the returns the position\r\n",
        "\r\n",
        "my_str.index(\"h\")\r\n",
        "\r\n",
        "#isdigit() - returns true if all characters in string are digits \r\n",
        "\r\n",
        "my_str.isdigit()\r\n",
        "\r\n",
        "#islower()  return true if all characters in the strings are lowercase\r\n",
        "\r\n",
        "my_str.islower()"
      ],
      "outputs": [
        {
          "output_type": "execute_result",
          "data": {
            "text/plain": [
              "False"
            ]
          },
          "metadata": {},
          "execution_count": 57
        }
      ],
      "metadata": {
        "id": "9xasXs-dWMTc"
      }
    },
    {
      "cell_type": "code",
      "execution_count": 59,
      "source": [
        "num_int =55\r\n",
        "num_str =\"34\"\r\n",
        "int(num_str)\r\n",
        "total = num_int + int(num_str) #converted to int so it doesnt throw error\r\n",
        "print (total)\r\n",
        "print (type(num_int))\r\n",
        "print (type(num_str))\r\n"
      ],
      "outputs": [
        {
          "output_type": "stream",
          "name": "stdout",
          "text": [
            "89\n",
            "<class 'int'>\n",
            "<class 'str'>\n"
          ]
        }
      ],
      "metadata": {
        "id": "vs0lRRDRtRFQ"
      }
    },
    {
      "cell_type": "code",
      "execution_count": 61,
      "source": [
        "#Find potential sources of runtime errors in this code snippet:\r\n",
        "import math\r\n",
        "dividend = float(input(\"Please enter the dividend: \"))\r\n",
        "divisor = float(input(\"Please enter the divisor: \"))\r\n",
        "quotient = dividend // divisor\r\n",
        "#quotient_rounded = math.round(quotient)\r\n",
        "\r\n",
        "#module 'math' has no attribute 'round'\r\n",
        "#used \"//\" so the value gets rounded off "
      ],
      "outputs": [],
      "metadata": {
        "id": "Rbq2VWPy4Hp-"
      }
    },
    {
      "cell_type": "code",
      "execution_count": 64,
      "source": [
        "# print the quotes : Don't judge each day by the harvest you reap but by the seeds that you plant.\r\n",
        "# Example for syntax Error \r\n",
        "\r\n",
        "print(\"Don't judge each day by the harvest you reap but by the seeds that you plant\")"
      ],
      "outputs": [
        {
          "output_type": "stream",
          "name": "stdout",
          "text": [
            "Don't judge each day by the harvest you reap but by the seeds that you plant\n"
          ]
        }
      ],
      "metadata": {
        "id": "yNDpOmfoNZhD"
      }
    },
    {
      "cell_type": "code",
      "execution_count": 68,
      "source": [
        "# print the Quotes :Don't judge each day by the harvest you reap but by the seeds that you plant.\r\n",
        "print(\"Don't judge each day by the harvest you reap but by the seeds that you plant\")"
      ],
      "outputs": [
        {
          "output_type": "stream",
          "name": "stdout",
          "text": [
            "Don't judge each day by the harvest you reap but by the seeds that you plant\n"
          ]
        }
      ],
      "metadata": {
        "id": "3PLbQJiLOhup"
      }
    },
    {
      "cell_type": "code",
      "execution_count": 74,
      "source": [
        "# identify the error, label the type of error and correct the error \r\n",
        " # class =\"plant\"  #it is keyword and cannot be assigned variables or parameter\r\n",
        "\r\n",
        "My_class = \"plant\"\r\n",
        "#crop name =\"Brinjal\"  #we cannot give space between names\r\n",
        "\r\n",
        "crop_name = \"Brinjal\"\r\n",
        "yeid = \"20kg\" \r\n",
        "# print name of the class, crop name and yeid \r\n",
        "print(My_class,yeid,crop_name)\r\n",
        "\r\n",
        "x=10\r\n",
        "print (x)\r\n",
        "# print the value of x \r\n"
      ],
      "outputs": [
        {
          "output_type": "stream",
          "name": "stdout",
          "text": [
            "plant 20kg Brinjal\n",
            "10\n"
          ]
        }
      ],
      "metadata": {
        "id": "qG-UqL6yPvLY"
      }
    },
    {
      "cell_type": "code",
      "execution_count": 5,
      "source": [
        "# Find the errors in the coding and correct \r\n",
        "# formula to convert centrigrade to fahr\r\n",
        "\r\n",
        "\r\n",
        "C = 21; F = (9/5*C) + 32\r\n",
        "C = 21.0; F = (9/5)*C + 32\r\n",
        "\r\n",
        "F\r\n"
      ],
      "outputs": [
        {
          "output_type": "execute_result",
          "data": {
            "text/plain": [
              "69.80000000000001"
            ]
          },
          "metadata": {},
          "execution_count": 5
        }
      ],
      "metadata": {
        "id": "y4KL5WaiL_h0"
      }
    },
    {
      "cell_type": "code",
      "execution_count": 86,
      "source": [
        "#Explain why the code is not working \r\n",
        "#c= a+ b  #as the code is read in sequence the interpreter cannot perform \r\n",
        "# operation as it doesnt have any values present at start\r\n",
        "\r\n",
        "a = 10 \r\n",
        "b = 5 \r\n",
        "c = a + b\r\n",
        "print(c)"
      ],
      "outputs": [
        {
          "output_type": "stream",
          "name": "stdout",
          "text": [
            "15\n"
          ]
        }
      ],
      "metadata": {
        "id": "OEGKfzBuMe5b"
      }
    },
    {
      "cell_type": "code",
      "execution_count": 102,
      "source": [
        "# Find the bugs in the below code, correct the mistakes and comment suggestions \r\n",
        "from math import pi\r\n",
        "h = 5.0 # height\r\n",
        "B = 2.0 # base\r\n",
        "r = 1.5  #r was commented out \r\n",
        "area_parallelogram = h*b\r\n",
        "print(\"The area of the parallelogram is %.3f\",area_parallelogram) #indentation and paranthesis error and syntax error\r\n",
        "\r\n",
        "area_square = b**2\r\n",
        "print(\"The area of the square is %g\"%area_square)\r\n",
        "\r\n",
        "area_circle = pi*r**2\r\n",
        "print(\"The area of the circle is %.3f\"%area_circle)\r\n",
        "\r\n",
        "volume_cone = 1.0/3*pi*r**2*h\r\n",
        "print (\"The volume of the cone is %.3f\"%volume_cone)"
      ],
      "outputs": [
        {
          "output_type": "stream",
          "name": "stdout",
          "text": [
            "The area of the parallelogram is %.3f 25.0\n",
            "The area of the square is 25\n",
            "The area of the circle is 7.069\n",
            "The volume of the cone is 11.781\n"
          ]
        }
      ],
      "metadata": {
        "colab": {
          "base_uri": "https://localhost:8080/"
        },
        "id": "GeVaIE5lK6Xk",
        "outputId": "8720561f-49b4-44e0-e684-2f458fcb366b"
      }
    },
    {
      "cell_type": "code",
      "execution_count": 110,
      "source": [
        "# This code shows the use math module \r\n",
        "# Run time error and Logical Error \r\n",
        "\r\n",
        "from math import sin\r\n",
        "r= sin(c)\r\n",
        "\r\n",
        "x=2.4\r\n",
        "y = 2.5 + 3j\r\n",
        "y_new = abs(y)\r\n",
        "print(y_new)\r\n",
        "\r\n",
        "math.sin(x)\r\n",
        "#math.sin(y) #type conversion not possible"
      ],
      "outputs": [
        {
          "output_type": "stream",
          "name": "stdout",
          "text": [
            "3.905124837953327\n"
          ]
        },
        {
          "output_type": "execute_result",
          "data": {
            "text/plain": [
              "0.675463180551151"
            ]
          },
          "metadata": {},
          "execution_count": 110
        }
      ],
      "metadata": {
        "colab": {
          "base_uri": "https://localhost:8080/",
          "height": 246
        },
        "id": "o5pap43SGS_9",
        "outputId": "71595b08-f8ce-4bf5-aa46-42cff4d4cfd3"
      }
    },
    {
      "cell_type": "code",
      "execution_count": 111,
      "source": [
        "print(\"Hello, World!\")\r\n",
        "print(\"All finished!\")"
      ],
      "outputs": [
        {
          "output_type": "stream",
          "name": "stdout",
          "text": [
            "Hello, World!\n",
            "All finished!\n"
          ]
        }
      ],
      "metadata": {
        "id": "YI47Zx77kag2"
      }
    },
    {
      "cell_type": "code",
      "execution_count": 112,
      "source": [
        "# Print the statement, Kindly help me!\r\n",
        "print(\"Kindly help me!\")"
      ],
      "outputs": [
        {
          "output_type": "stream",
          "name": "stdout",
          "text": [
            "Kindly help me!\n"
          ]
        }
      ],
      "metadata": {
        "id": "1BsRwEjLqSxE"
      }
    },
    {
      "cell_type": "code",
      "execution_count": 113,
      "source": [
        "# print the value of the course \r\n",
        "course = \"Programming with Python\"\r\n",
        "print(course)"
      ],
      "outputs": [
        {
          "output_type": "stream",
          "name": "stdout",
          "text": [
            "Programming with Python\n"
          ]
        }
      ],
      "metadata": {
        "id": "0hlQygpy9Nto"
      }
    },
    {
      "cell_type": "code",
      "execution_count": null,
      "source": [],
      "outputs": [],
      "metadata": {
        "id": "ta5XT3nWbX5D"
      }
    },
    {
      "cell_type": "code",
      "execution_count": 115,
      "source": [
        "#store the size of the land in the variable size  in square feet \r\n",
        "size = 200 \r\n",
        "#store the income as in\r\n",
        "#print the value of  both size and income \r\n",
        "_in = 9000\r\n",
        "\r\n",
        "print(size,_in)\r\n",
        "\r\n",
        "cropName = \"Drumstick\"\r\n",
        "#year@2021 = 'Drumstick'  #error cannot assign to operator"
      ],
      "outputs": [
        {
          "output_type": "stream",
          "name": "stdout",
          "text": [
            "200 9000\n"
          ]
        }
      ],
      "metadata": {
        "id": "KRQbpCioCZmv"
      }
    },
    {
      "cell_type": "code",
      "execution_count": 116,
      "source": [
        "print (\"Don't eat those cookies before dinner.\")"
      ],
      "outputs": [
        {
          "output_type": "stream",
          "name": "stdout",
          "text": [
            "Don't eat those cookies before dinner.\n"
          ]
        }
      ],
      "metadata": {
        "id": "AwZuxqIoEJVV"
      }
    },
    {
      "cell_type": "code",
      "execution_count": 117,
      "source": [
        "print (\"Hello \\t \\t \\t world\")"
      ],
      "outputs": [
        {
          "output_type": "stream",
          "name": "stdout",
          "text": [
            "Hello \t \t \t world\n"
          ]
        }
      ],
      "metadata": {
        "id": "l9ymjrwAcGE7"
      }
    },
    {
      "cell_type": "code",
      "execution_count": 119,
      "source": [
        "print (\"I like Python Programming!\")"
      ],
      "outputs": [
        {
          "output_type": "stream",
          "name": "stdout",
          "text": [
            "I like Python Programming!\n"
          ]
        }
      ],
      "metadata": {
        "id": "6zLCndnBhJkF"
      }
    },
    {
      "cell_type": "code",
      "execution_count": 120,
      "source": [
        "print (\"The first program in any programming language is Hello World.\")"
      ],
      "outputs": [
        {
          "output_type": "stream",
          "name": "stdout",
          "text": [
            "The first program in any programming language is Hello World.\n"
          ]
        }
      ],
      "metadata": {
        "colab": {
          "base_uri": "https://localhost:8080/",
          "height": 135
        },
        "id": "p3CqLQsAhS7o",
        "outputId": "2072a79b-ac58-479d-c4d0-a28ff8cad88a"
      }
    },
    {
      "cell_type": "code",
      "execution_count": 122,
      "source": [
        "print (cropName)"
      ],
      "outputs": [
        {
          "output_type": "stream",
          "name": "stdout",
          "text": [
            "Drumstick\n"
          ]
        }
      ],
      "metadata": {
        "colab": {
          "base_uri": "https://localhost:8080/",
          "height": 172
        },
        "id": "y2bSAfLTcNw8",
        "outputId": "70966adb-6f28-43b9-a0da-9bb863381b5c"
      }
    },
    {
      "cell_type": "code",
      "execution_count": 123,
      "source": [
        "# find the bug\r\n",
        "1/2  #indentation error"
      ],
      "outputs": [
        {
          "output_type": "execute_result",
          "data": {
            "text/plain": [
              "0.5"
            ]
          },
          "metadata": {},
          "execution_count": 123
        }
      ],
      "metadata": {
        "colab": {
          "base_uri": "https://localhost:8080/",
          "height": 135
        },
        "id": "naQO1yYtelji",
        "outputId": "2b6dd5e5-40f1-4e37-ce45-ae47152b4c15"
      }
    },
    {
      "cell_type": "code",
      "execution_count": 124,
      "source": [
        "profit = 1000\r\n",
        "#increment profit by 1\r\n",
        "profit += 1"
      ],
      "outputs": [],
      "metadata": {
        "colab": {
          "base_uri": "https://localhost:8080/",
          "height": 135
        },
        "id": "ww59VvltfTN6",
        "outputId": "04507124-3877-4dab-ce9f-a426ed9a04c4"
      }
    },
    {
      "cell_type": "code",
      "execution_count": 126,
      "source": [
        "import math\r\n",
        "print (math.log(10))"
      ],
      "outputs": [
        {
          "output_type": "stream",
          "name": "stdout",
          "text": [
            "2.302585092994046\n"
          ]
        }
      ],
      "metadata": {
        "colab": {
          "base_uri": "https://localhost:8080/",
          "height": 135
        },
        "id": "cK7zIHHyizeI",
        "outputId": "27a52685-9ee2-4192-f13a-b4e457286c13"
      }
    },
    {
      "cell_type": "code",
      "execution_count": 127,
      "source": [
        "print(math.sin(2))"
      ],
      "outputs": [
        {
          "output_type": "stream",
          "name": "stdout",
          "text": [
            "0.9092974268256817\n"
          ]
        }
      ],
      "metadata": {
        "colab": {
          "base_uri": "https://localhost:8080/",
          "height": 135
        },
        "id": "kVuiqskDjy5L",
        "outputId": "c8e3ac44-13c3-4607-b30b-29d0e67cc1ba"
      }
    },
    {
      "cell_type": "code",
      "execution_count": 128,
      "source": [
        "num_int =55\r\n",
        "num_str =\"34\"\r\n",
        "total = num_int + int(num_str)\r\n",
        "print (total)\r\n",
        "print (type(num_int))\r\n",
        "print (type(num_str))\r\n"
      ],
      "outputs": [
        {
          "output_type": "stream",
          "name": "stdout",
          "text": [
            "89\n",
            "<class 'int'>\n",
            "<class 'str'>\n"
          ]
        }
      ],
      "metadata": {
        "colab": {
          "base_uri": "https://localhost:8080/",
          "height": 246
        },
        "id": "c-ad-Nzrq77u",
        "outputId": "0af3c361-e2c2-4756-b667-6dfb5018ac86"
      }
    },
    {
      "cell_type": "code",
      "execution_count": 129,
      "source": [
        "# Trying to print the multiplication entry, but it throws error \r\n",
        "5*6 == 30 # == operators compares"
      ],
      "outputs": [
        {
          "output_type": "execute_result",
          "data": {
            "text/plain": [
              "True"
            ]
          },
          "metadata": {},
          "execution_count": 129
        }
      ],
      "metadata": {
        "id": "jPjjyFnttQmk",
        "colab": {
          "base_uri": "https://localhost:8080/",
          "height": 136
        },
        "outputId": "921f1717-1869-4ab4-f213-28f4e7796cd6"
      }
    },
    {
      "cell_type": "code",
      "execution_count": 130,
      "source": [
        "# Trying to find the round of 10.2 \r\n",
        "round (10.2,2)\r\n"
      ],
      "outputs": [
        {
          "output_type": "execute_result",
          "data": {
            "text/plain": [
              "10.2"
            ]
          },
          "metadata": {},
          "execution_count": 130
        }
      ],
      "metadata": {
        "id": "3BbHIDfm9m8Z"
      }
    },
    {
      "cell_type": "code",
      "execution_count": 131,
      "source": [
        "round(10.2,1)"
      ],
      "outputs": [
        {
          "output_type": "execute_result",
          "data": {
            "text/plain": [
              "10.2"
            ]
          },
          "metadata": {},
          "execution_count": 131
        }
      ],
      "metadata": {
        "colab": {
          "base_uri": "https://localhost:8080/",
          "height": 173
        },
        "id": "JgPti3XH905j",
        "outputId": "6f372706-0ce8-45c4-e151-3ebd9f4930bc"
      }
    },
    {
      "cell_type": "code",
      "execution_count": 132,
      "source": [
        "# Trying to calculate 2 to the power of 5 \r\n",
        "\r\n",
        "print(2**5)"
      ],
      "outputs": [
        {
          "output_type": "stream",
          "name": "stdout",
          "text": [
            "32\n"
          ]
        }
      ],
      "metadata": {
        "colab": {
          "base_uri": "https://localhost:8080/",
          "height": 210
        },
        "id": "SNu9AoTc96rR",
        "outputId": "7992334c-868c-4f22-9faa-803267ca4a8c"
      }
    },
    {
      "cell_type": "code",
      "execution_count": 6,
      "source": [
        "#Trying to multiply 5 \r\n",
        "5 * 5 "
      ],
      "outputs": [
        {
          "output_type": "execute_result",
          "data": {
            "text/plain": [
              "25"
            ]
          },
          "metadata": {},
          "execution_count": 6
        }
      ],
      "metadata": {
        "colab": {
          "base_uri": "https://localhost:8080/",
          "height": 136
        },
        "id": "RYI_-mCi_uhB",
        "outputId": "0b8c7721-8885-40c4-f054-6344d22963ed"
      }
    },
    {
      "cell_type": "code",
      "execution_count": 134,
      "source": [
        "# Trying to print the text message Hello \r\n",
        "\r\n",
        "print(\"Hello\") "
      ],
      "outputs": [
        {
          "output_type": "stream",
          "name": "stdout",
          "text": [
            "Hello\n"
          ]
        }
      ],
      "metadata": {
        "id": "nBbRBfMb9JOs"
      }
    },
    {
      "cell_type": "code",
      "execution_count": 137,
      "source": [
        "#store the size of the land in the variable size  in square feet \r\n",
        "size = 200 \r\n",
        "#store the income as in\r\n",
        "#print the value of  both size and income \r\n",
        "_in = 9000\r\n",
        "print(size, _in)\r\n",
        "cropName=\"Drumstick\"\r\n",
        "year_2021 = \"Drumstick\""
      ],
      "outputs": [
        {
          "output_type": "stream",
          "name": "stdout",
          "text": [
            "200 9000\n"
          ]
        }
      ],
      "metadata": {
        "id": "79e4eQ0RbY4U"
      }
    },
    {
      "cell_type": "code",
      "execution_count": null,
      "source": [],
      "outputs": [],
      "metadata": {}
    }
  ]
}